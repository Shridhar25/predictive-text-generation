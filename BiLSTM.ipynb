{
 "cells": [
  {
   "cell_type": "code",
   "execution_count": 1,
   "metadata": {
    "id": "iyoCVZOKbKHj"
   },
   "outputs": [],
   "source": [
    "import string\n",
    "import numpy as np\n",
    "import pandas as pd\n",
    "import matplotlib.pyplot as plt\n",
    "from nltk.tokenize import RegexpTokenizer\n",
    "from tensorflow.keras.preprocessing.text import Tokenizer\n",
    "from tensorflow.keras.models import Sequential, load_model\n",
    "from tensorflow.keras.layers import Embedding\n",
    "from tensorflow.keras.layers import LSTM, Bidirectional\n",
    "from tensorflow.keras.layers import Dropout\n",
    "from tensorflow.keras.preprocessing.sequence import pad_sequences\n",
    "from tensorflow.keras.utils import to_categorical\n",
    "from tensorflow.keras.layers import Dense, Activation\n",
    "from tensorflow.keras.optimizers import Adam\n",
    "from tensorflow.keras.utils import to_categorical\n",
    "from tensorflow.keras.callbacks import ModelCheckpoint\n",
    "from tensorflow.keras.callbacks import ReduceLROnPlateau\n",
    "from tensorflow.keras.callbacks import TensorBoard\n",
    "import pickle\n",
    "import re"
   ]
  },
  {
   "cell_type": "code",
   "execution_count": 2,
   "metadata": {
    "colab": {
     "base_uri": "https://localhost:8080/"
    },
    "id": "lO_X3ItgbNgX",
    "outputId": "e483a072-ec53-4d0f-81a6-367b50ec4279"
   },
   "outputs": [
    {
     "name": "stdout",
     "output_type": "stream",
     "text": [
      "2221\n"
     ]
    },
    {
     "data": {
      "text/plain": [
       "(23144, 18)"
      ]
     },
     "execution_count": 2,
     "metadata": {},
     "output_type": "execute_result"
    }
   ],
   "source": [
    "data = open(\"Metamorphosis.txt\").read()\n",
    "tokenizer = Tokenizer()\n",
    "corpus = data.lower().split(\"\\n\")\n",
    "print(len(corpus))\n",
    "tokenizer.fit_on_texts(corpus)\n",
    "# print(tokenizer.word_index)\n",
    "tot_words = len(tokenizer.word_index)+1\n",
    "# create input sequences\n",
    "input_sequences =[]\n",
    "for line in corpus:\n",
    "    token_list = tokenizer.texts_to_sequences([line])[0]\n",
    "    for i in range(1, len(token_list)):\n",
    "        n_gram_sequence=token_list[:i+1]\n",
    "        input_sequences.append(n_gram_sequence)\n",
    "\n",
    "# print(input_sequences)\n",
    "\n",
    "\n",
    "\n",
    "# pad sequences\n",
    "max_sequence_len = max([len(x) for x in input_sequences])\n",
    "\n",
    "input_sequences = np.array(pad_sequences(input_sequences, maxlen=max_sequence_len, padding='pre'))\n",
    "input_sequences.shape"
   ]
  },
  {
   "cell_type": "code",
   "execution_count": 3,
   "metadata": {
    "colab": {
     "base_uri": "https://localhost:8080/"
    },
    "id": "bS0aJQ-V6jl4",
    "outputId": "5aac0784-d40f-40c8-b938-b6007fd64e49"
   },
   "outputs": [
    {
     "name": "stdout",
     "output_type": "stream",
     "text": [
      "{'the': 1, 'to': 2, 'and': 3, 'he': 4, 'of': 5, 'his': 6, 'was': 7, 'in': 8, 'it': 9, 'had': 10, 'a': 11, 'that': 12, 'as': 13, 'with': 14, 'not': 15, 'she': 16, 'for': 17, 'gregor': 18, 'him': 19, 'her': 20, 'would': 21, 'at': 22, 'but': 23, 'on': 24, 'they': 25, 'all': 26, 'this': 27, 'be': 28, 'from': 29, 'room': 30, 'if': 31, 'could': 32, 'you': 33, 'or': 34, 'out': 35, 'have': 36, 'there': 37, 'been': 38, 'gregor’s': 39, 'so': 40, 'sister': 41, 'father': 42, 'gutenberg': 43, 'project': 44, 'himself': 45, 'door': 46, 'any': 47, 'up': 48, 'back': 49, 'by': 50, 'even': 51, 'now': 52, 'then': 53, 'no': 54, 'into': 55, 'mother': 56, 'one': 57, 'work': 58, 'about': 59, 'more': 60, 'did': 61, 'their': 62, 'when': 63, '”': 64, 'were': 65, 'them': 66, 'only': 67, 'way': 68, 'do': 69, 'other': 70, 'than': 71, 'time': 72, 'what': 73, 'tm': 74, 'i': 75, 'little': 76, 'said': 77, 'just': 78, 'is': 79, 'without': 80, '1': 81, 'still': 82, 'first': 83, 'get': 84, 'see': 85, 'some': 86, 'made': 87, 'while': 88, 'which': 89, 'where': 90, 'before': 91, 'much': 92, 'go': 93, 'like': 94, 'head': 95, 'after': 96, 'again': 97, 'chief': 98, 'an': 99, 'who': 100, 'down': 101, 'very': 102, 'open': 103, 'clerk': 104, 'away': 105, 'we': 106, 'works': 107, 'thought': 108, 'over': 109, 'went': 110, 'left': 111, 'soon': 112, 'came': 113, 'how': 114, 'samsa': 115, 'quite': 116, 'though': 117, 'family': 118, 'looked': 119, 'too': 120, 'come': 121, 'must': 122, 'are': 123, 'wanted': 124, 'against': 125, 'day': 126, 'everything': 127, 'well': 128, 'two': 129, 'electronic': 130, 'bed': 131, 'seemed': 132, 'something': 133, 'make': 134, 'let': 135, 'being': 136, 'things': 137, 'your': 138, 'parents': 139, 'three': 140, 'because': 141, 'can': 142, 'round': 143, 'body': 144, 'under': 145, 'copyright': 146, 'able': 147, 'used': 148, 'gentlemen': 149, 'long': 150, 'already': 151, 'really': 152, 'e': 153, 'right': 154, 'slowly': 155, 'through': 156, 'side': 157, 'use': 158, 'hand': 159, 'foundation': 160, 'terms': 161, 'its': 162, 'onto': 163, 'got': 164, 'floor': 165, 'mr': 166, 'morning': 167, 'legs': 168, 'look': 169, 'never': 170, 'better': 171, 'my': 172, 'think': 173, 'set': 174, 'full': 175, 'flat': 176, 'around': 177, 'grete': 178, 'lay': 179, 'off': 180, 'turned': 181, 'window': 182, 'heard': 183, 'feel': 184, 'eyes': 185, 'become': 186, 'enough': 187, 'should': 188, 'almost': 189, 'longer': 190, 'always': 191, 'began': 192, 'home': 193, 'once': 194, 'hands': 195, 'possible': 196, 'next': 197, 'each': 198, 'nothing': 199, 'took': 200, 'will': 201, 'help': 202, 'here': 203, 'say': 204, 'good': 205, 'evening': 206, 'straight': 207, 'table': 208, 'living': 209, 'herself': 210, 'states': 211, 'agreement': 212, 'me': 213, 'although': 214, 'whole': 215, 'know': 216, 'these': 217, 'voice': 218, 'perhaps': 219, 'might': 220, 'same': 221, 'also': 222, 'front': 223, 'license': 224, 'found': 225, 'hardly': 226, 'business': 227, 'money': 228, 'most': 229, 'often': 230, 'move': 231, 'course': 232, 'opened': 233, 'immediately': 234, 'asked': 235, 'chair': 236, 'behind': 237, 'couch': 238, 'happened': 239, 'state': 240, 'times': 241, 'felt': 242, 'furniture': 243, 'anything': 244, 'became': 245, 'new': 246, 'women': 247, 'taken': 248, 'donations': 249, 'sleep': 250, 'doing': 251, 'life': 252, 'chest': 253, 'probably': 254, 'put': 255, 'give': 256, 'i’m': 257, 'arms': 258, 'hear': 259, 'held': 260, 'stood': 261, 'pressed': 262, 'face': 263, 'old': 264, 'united': 265, 'trademark': 266, 'may': 267, 'sat': 268, 'food': 269, 'it’s': 270, 'especially': 271, 'certainly': 272, 'called': 273, 'attention': 274, 'understand': 275, 'playing': 276, 'literary': 277, 'archive': 278, 'towards': 279, 'hard': 280, 'tried': 281, 'effort': 282, 'anyone': 283, 'pushed': 284, 'saw': 285, 'quickly': 286, 'copy': 287, 'close': 288, 'later': 289, 'ever': 290, 'words': 291, 'done': 292, 'don’t': 293, 'keep': 294, 'seen': 295, 'forward': 296, 'every': 297, 'reason': 298, 'few': 299, 'take': 300, 'until': 301, 'violin': 302, 'middle': 303, 'however': 304, 'pain': 305, 'making': 306, 'didn’t': 307, 'thing': 308, 'notice': 309, 'moving': 310, 'want': 311, 'free': 312, 'part': 313, 'despite': 314, 'last': 315, 'stay': 316, 'moved': 317, 'remained': 318, 'least': 319, 'leave': 320, 'please': 321, 'kitchen': 322, 'clear': 323, 'ran': 324, 'key': 325, 'forth': 326, 'eat': 327, 'paragraph': 328, 'f': 329, 'own': 330, 'whether': 331, 'doors': 332, 'night': 333, 'themselves': 334, 'finally': 335, 'clearly': 336, 'quiet': 337, 'nearly': 338, 'mrs': 339, 'great': 340, 'turn': 341, 'provide': 342, 'looking': 343, 'such': 344, 'days': 345, 'agree': 346, 'access': 347, 'refund': 348, '3': 349, 'moment': 350, 'upright': 351, 'covered': 352, 'present': 353, 'shut': 354, 'stopped': 355, '“what': 356, 'train': 357, 'place': 358, 'boss': 359, 'told': 360, 'desk': 361, 'together': 362, 'half': 363, 'completely': 364, 'noticed': 365, 'carefully': 366, 'word': 367, 'dressed': 368, 'fell': 369, 'others': 370, 'can’t': 371, 'far': 372, 'why': 373, 'us': 374, 'suddenly': 375, 'since': 376, 'tears': 377, 'realised': 378, 'taking': 379, 'using': 380, 'several': 381, 'uniform': 382, 'going': 383, 'permission': 384, 'charwoman': 385, 'cleaner': 386, 'www': 387, 'org': 388, 's': 389, 'including': 390, 'information': 391, 'laws': 392, 'slightly': 393, 'travelling': 394, 'couldn’t': 395, 'position': 396, 'different': 397, 'people': 398, 'eating': 399, 'fall': 400, 'years': 401, 'that’s': 402, 'drawers': 403, 'noise': 404, 'having': 405, 'need': 406, 'both': 407, 'bring': 408, 'sign': 409, 'force': 410, 'carry': 411, 'kept': 412, 'loud': 413, 'across': 414, 'needed': 415, 'knew': 416, 'hours': 417, 'speak': 418, 'else': 419, 'job': 420, 'condition': 421, 'easy': 422, 'hurried': 423, 'lock': 424, 'mouth': 425, 'kind': 426, 'leant': 427, 'our': 428, 'end': 429, 'finished': 430, 'doorway': 431, 'closed': 432, 'another': 433, 'stand': 434, 'writing': 435, 'associated': 436, 'law': 437, 'fee': 438, 'many': 439, 'rest': 440, 'between': 441, 'walls': 442, 'collection': 443, 'spread': 444, 'nice': 445, 'lower': 446, 'white': 447, 'whenever': 448, 'during': 449, 'given': 450, 'five': 451, 'seven': 452, 'o’clock': 453, 'office': 454, 'man': 455, 'ill': 456, 'hurriedly': 457, 'near': 458, 'outside': 459, 'individual': 460, 'breakfast': 461, 'instead': 462, 'peace': 463, 'serious': 464, 'difficult': 465, 'turning': 466, 'earlier': 467, 'order': 468, 'calm': 469, 'maid': 470, 'sound': 471, 'simply': 472, 'strength': 473, 'knowing': 474, 'sight': 475, 'hall': 476, 'start': 477, 'hold': 478, 'following': 479, 'breath': 480, 'ground': 481, 'chance': 482, 'reached': 483, 'future': 484, 'pleasure': 485, 'fully': 486, 'light': 487, 'ceiling': 488, 'actually': 489, 'dish': 490, 'sometimes': 491, 'everyone': 492, 'received': 493, 'music': 494, 'tired': 495, 'crawl': 496, 'paid': 497, 'holder': 498, 'ebook': 499, 'u': 500, 'distributing': 501, 'copies': 502, 'ebooks': 503, 'section': 504, 'lifted': 505, 'small': 506, 'picture': 507, 'forget': 508, 'unable': 509, 'sleeping': 510, 'early': 511, 'try': 512, 'maybe': 513, 'tell': 514, 'sort': 515, 'pay': 516, 'alarm': 517, 'past': 518, 'quarter': 519, 'fresh': 520, 'doctor': 521, 'what’s': 522, 'wrong': 523, 'struck': 524, 'getting': 525, 'conversation': 526, 'aware': 527, '“gregor': 528, 'habit': 529, 'lying': 530, 'caused': 531, 'slightest': 532, 'painfully': 533, 'easily': 534, 'air': 535, 'unfortunately': 536, 'expected': 537, 'carpet': 538, 'find': 539, 'someone': 540, 'question': 541, 'has': 542, 'anyway': 543, 'sure': 544, 'person': 545, 'year': 546, 'gave': 547, 'mother’s': 548, 'listening': 549, 'efforts': 550, 'meal': 551, 'landing': 552, 'earn': 553, 'particular': 554, 'impossible': 555, 'foot': 556, 'rushed': 557, 'lost': 558, 'forgotten': 559, 'running': 560, 'flew': 561, 'father’s': 562, 'milk': 563, 'either': 564, 'send': 565, 'totally': 566, 'bent': 567, 'sheet': 568, 'meant': 569, 'protected': 570, 'distribute': 571, 'charge': 572, 'distribution': 573, 'comply': 574, 'tax': 575, 'wasn’t': 576, 'human': 577, 'cut': 578, 'threw': 579, 'wouldn’t': 580, '“oh': 581, 'contact': 582, 'friendly': 583, 'overcome': 584, 'gone': 585, 'hope': 586, 'i’ll': 587, 'change': 588, 'clock': 589, 'quietly': 590, 'yes': 591, 'rush': 592, 'fact': 593, 'usual': 594, 'shocked': 595, 'leaving': 596, 'explanation': 597, 'short': 598, 'sides': 599, 'remove': 600, 'throw': 601, 'those': 602, 'learned': 603, 'followed': 604, 'harder': 605, 'consideration': 606, 'street': 607, 'raised': 608, 'happen': 609, 'patient': 610, 'locked': 611, 'steps': 612, 'employees': 613, 'show': 614, 'he’s': 615, 'stayed': 616, 'idea': 617, 'glad': 618, 'you’re': 619, 'seriously': 620, 'speaking': 621, 'immediate': 622, 'late': 623, 'cannot': 624, 'beside': 625, 'wait': 626, 'listen': 627, 'loudly': 628, 'holding': 629, 'disappeared': 630, 'along': 631, 'important': 632, 'reading': 633, 'below': 634, 'enormous': 635, 'urge': 636, 'spare': 637, 'stick': 638, 'pulled': 639, 'stop': 640, 'allowed': 641, 'intentions': 642, 'slammed': 643, 'filled': 644, 'crawling': 645, 'forced': 646, 'sister’s': 647, 'surprise': 648, 'carried': 649, 'startled': 650, 'asleep': 651, 'broom': 652, 'indeed': 653, 'within': 654, 'silent': 655, 'slow': 656, 'coming': 657, 'freely': 658, 'unless': 659, 'immobile': 660, 'shouted': 661, 'apple': 662, 'form': 663, 'sit': 664, 'appeared': 665, 'gentleman': 666, 'damages': 667, '5': 668, 'located': 669, 'compliance': 670, 'owner': 671, '4': 672, 'donate': 673, 'medium': 674, 'replacement': 675, 'volunteers': 676, 'limited': 677, 'brown': 678, 'ready': 679, '“what’s': 680, 'four': 681, 'above': 682, 'hung': 683, 'lady': 684, 'fur': 685, 'hat': 686, 'raising': 687, 'heavy': 688, 'arm': 689, 'bit': 690, 'i’ve': 691, 'there’s': 692, 'slight': 693, 'drew': 694, 'touched': 695, 'live': 696, 'ought': 697, 'i’d': 698, 'best': 699, 'talking': 700, 'forwards': 701, 'catch': 702, 'entirely': 703, 'somebody': 704, 'somewhere': 705, 'answer': 706, 'saying': 707, 'gently': 708, 'answered': 709, 'disturbed': 710, 'thoughts': 711, 'sensible': 712, 'push': 713, 'control': 714, 'itself': 715, 'trying': 716, 'direction': 717, 'hit': 718, 'pushing': 719, 'whatever': 720, 'view': 721, 'confidence': 722, 'entire': 723, 'concern': 724, 'strong': 725, 'careful': 726, 'call': 727, 'difficulty': 728, 'smile': 729, 'decision': 730, 'highly': 731, 'annoyed': 732, 'fallen': 733, 'isn’t': 734, 'evenings': 735, 'amazed': 736, '“well': 737, 'worry': 738, 'happening': 739, 'astonished': 740, 'seem': 741, 'wish': 742, 'cause': 743, 'learn': 744, 'alright': 745, 'read': 746, 'sent': 747, 'god': 748, 'entrance': 749, 'locksmith': 750, 'skirts': 751, 'lack': 752, 'damage': 753, 'paying': 754, 'break': 755, 'wide': 756, 'movement': 757, 'number': 758, 'wall': 759, 'exactly': 760, 'respect': 761, 'removed': 762, 'started': 763, 'stretched': 764, 'save': 765, 'mood': 766, 'talk': 767, 'backwards': 768, 'self': 769, 'newspaper': 770, 'drive': 771, 'merely': 772, 'tip': 773, 'further': 774, 'obviously': 775, 'dark': 776, 'crawled': 777, 'darkness': 778, 'waited': 779, 'empty': 780, 'remain': 781, 'nonetheless': 782, 'spent': 783, 'bear': 784, 'anxiously': 785, 'rather': 786, 'feet': 787, 'brought': 788, 'month': 789, 'breathe': 790, 'becoming': 791, 'dinner': 792, 'receive': 793, 'fetch': 794, 'return': 795, 'decided': 796, 'lot': 797, 'keeping': 798, 'appearance': 799, 'necessary': 800, 'high': 801, 'stepped': 802, 'shall': 803, '“come': 804, 'broke': 805, 'arrived': 806, 'public': 807, 'coat': 808, 'pockets': 809, 'friends': 810, 'bedroom': 811, 'briefly': 812, 'corner': 813, 'rented': 814, 'equipment': 815, 'rid': 816, 'country': 817, '2': 818, 'editions': 819, 'creating': 820, 'copying': 821, 'except': 822, 'mission': 823, 'phrase': 824, '8': 825, 'c': 826, 'displaying': 827, 'support': 828, 'format': 829, 'status': 830, 'distributed': 831, 'posted': 832, 'fees': 833, 'providing': 834, 'requirements': 835, 'website': 836, 'provided': 837, 'horrible': 838, 'belly': 839, 'stiff': 840, 'proper': 841, 'peacefully': 842, 'samples': 843, 'recently': 844, 'showed': 845, 'rain': 846, 'sad': 847, 'rolled': 848, 'top': 849, 'lift': 850, 'cold': 851, 'slid': 852, 'makes': 853, 'salesmen': 854, 'sitting': 855, 'spot': 856, 'ago': 857, 'hearing': 858, 'debt': 859, 'six': 860, 'big': 861, 'deeply': 862, 'particularly': 863, 'lively': 864, 'avoid': 865, 'anger': 866, 'report': 867, 'understanding': 868, 'extremely': 869, 'suspicious': 870, 'service': 871, 'yet': 872, 'company': 873, 'apart': 874, 'knock': 875, 'deep': 876, 'inside': 877, 'mixed': 878, 'properly': 879, 'knocking': 880, 'now”': 881, 'opening': 882, 'consider': 883, 'remembered': 884, 'today': 885, 'simple': 886, 'broad': 887, 'directions': 888, 'stretch': 889, 'managed': 890, 'weight': 891, 'occurred': 892, 'injured': 893, 'afraid': 894, 'watching': 895, 'bringing': 896, 'direct': 897, 'narrow': 898, 'lightly': 899, 'total': 900, 'ask': 901, 'falling': 902, 'main': 903, 'bound': 904, 'raise': 905, 'caught': 906, 'firm': 907, 'spend': 908, 'upset': 909, 'clerk’s': 910, 'wants': 911, 'he’ll': 912, 'samsa”': 913, '“he': 914, 'town': 915, 'paper': 916, 'working': 917, '“i’ll': 918, 'explaining': 919, '“i': 920, 'silence': 921, 'crying': 922, 'intention': 923, 'suitable': 924, 'behaviour': 925, 'causing': 926, 'employer': 927, 'appear': 928, 'giving': 929, 'nor': 930, 'waste': 931, 'shocking': 932, 'suffer': 933, 'calmly': 934, 'us”': 935, 'we’re': 936, '“that': 937, 'contrast': 938, 'situation': 939, 'drawn': 940, 'meanwhile': 941, 'teeth': 942, 'flowed': 943, '“he’s': 944, 'double': 945, 'occupied': 946, 'hair': 947, 'grey': 948, 'line': 949, 'large': 950, '“now': 951, 'then”': 952, 'remember': 953, 'nobody': 954, 'usually': 955, 'partly': 956, 'shoulders': 957, 'secret': 958, 'sudden': 959, 'waiting': 960, 'convinced': 961, 'persuade': 962, 'landed': 963, 'outstretched': 964, 'sake': 965, 'coffee': 966, 'fled': 967, 'relatively': 968, 'picked': 969, 'appeals': 970, 'hissing': 971, 'distance': 972, 'fast': 973, 'shove': 974, 'heavily': 975, 'feeling': 976, 'beginning': 977, 'smell': 978, 'normally': 979, 'enter': 980, 'toe': 981, 'uneasy': 982, 'regret': 983, 'hunger': 984, 'greatest': 985, 'opportunity': 986, 'test': 987, 'watched': 988, 'realise': 989, 'bare': 990, 'cheese': 991, 'comfortable': 992, 'liked': 993, 'finger': 994, 'second': 995, 'eaten': 996, 'midday': 997, 'news': 998, 'directly': 999, 'delay': 1000, 'ate': 1001, 'receipt': 1002, 'misfortune': 1003, 'despair': 1004, 'earned': 1005, 'costs': 1006, 'warm': 1007, 'fond': 1008, 'conservatory': 1009, 'mind': 1010, 'continue': 1011, 'pull': 1012, 'repeated': 1013, 'available': 1014, 'interest': 1015, 'nodded': 1016, 'closer': 1017, 'strain': 1018, 'sofa': 1019, 'clothes': 1020, 'experienced': 1021, 'carrying': 1022, 'improvement': 1023, 'visit': 1024, 'letting': 1025, 'entertaining': 1026, 'dare': 1027, 'thrown': 1028, 'we’ve': 1029, 'insist': 1030, 'admit': 1031, 'worn': 1032, 'changed': 1033, 'chase': 1034, 'grete’s': 1035, 'screamed': 1036, 'shaking': 1037, 'various': 1038, 'death': 1039, '“just': 1040, 'mean': 1041, 'standing': 1042, 'gold': 1043, 'buttons': 1044, 'cap': 1045, 'movements': 1046, 'current': 1047, 'absolutely': 1048, 'world': 1049, 'whom': 1050, 'dust': 1051, 'alone': 1052, 'clean': 1053, 'indicating': 1054, 'chairs': 1055, 'play': 1056, 'anywhere': 1057, 'beards': 1058, 'hurry': 1059, 'smiled': 1060, 'played': 1061, 'page': 1062, 'hallway': 1063, 'young': 1064, 'animal': 1065, 'neck': 1066, 'protect': 1067, 'purpose': 1068, 'daughter': 1069, 'letters': 1070, '5200': 1071, '0': 1072, 'means': 1073, 'royalties': 1074, 'general': 1075, 'complying': 1076, 'derivative': 1077, 'online': 1078, 'obtain': 1079, 'entity': 1080, 'performing': 1081, 'included': 1082, 'check': 1083, 'links': 1084, 'paragraphs': 1085, '7': 1086, '9': 1087, 'additional': 1088, 'official': 1089, 'user': 1090, 'royalty': 1091, 'applicable': 1092, 'payments': 1093, 'defect': 1094, 'defective': 1095, 'disclaimer': 1096, 'liability': 1097, 'written': 1098, 'warranties': 1099, 'limitation': 1100, \"foundation's\": 1101, 'woke': 1102, 'dreams': 1103, 'sections': 1104, 'thin': 1105, 'size': 1106, 'dream': 1107, 'familiar': 1108, 'frame': 1109, 'fitted': 1110, 'dull': 1111, 'weather': 1112, 'drops': 1113, 'hitting': 1114, 'pane': 1115, 'chosen': 1116, 'takes': 1117, 'curse': 1118, 'worries': 1119, 'bad': 1120, 'itch': 1121, 'stupid': 1122, 'you’ve': 1123, 'instance': 1124, 'house': 1125, 'contract': 1126, 'breakfasts': 1127, 'he’d': 1128, 'definitely': 1129, 'rung': 1130, 'true': 1131, 'slept': 1132, 'mad': 1133, 'boss’s': 1134, 'assistant': 1135, 'reported': 1136, 'accuse': 1137, 'son': 1138, 'accept': 1139, 'claim': 1140, 'hungrier': 1141, 'cautious': 1142, '“gregor”': 1143, 'painful': 1144, 'explain': 1145, 'circumstances': 1146, '“yes': 1147, 'thank': 1148, 'wooden': 1149, 'members': 1150, 'fist': 1151, 'gregor”': 1152, 'putting': 1153, 'whispered': 1154, 'beg': 1155, 'acquired': 1156, 'conclusions': 1157, 'matter': 1158, 'covers': 1159, 'blow': 1160, 'moreover': 1161, 'bend': 1162, '“so': 1163, 'it”': 1164, 'imagine': 1165, 'gather': 1166, 'sensitive': 1167, 'eventually': 1168, 'miracle': 1169, 'price': 1170, 'sacrifice': 1171, 'remind': 1172, 'fog': 1173, '“seven': 1174, 'breathing': 1175, 'real': 1176, 'task': 1177, 'method': 1178, 'load': 1179, 'swang': 1180, 'ten': 1181, 'froze': 1182, 'couple': 1183, 'innocent': 1184, 'rubbed': 1185, 'reply': 1186, 'polished': 1187, 'boots': 1188, 'continued': 1189, 'believe': 1190, 'week': 1191, 'relaxation': 1192, 'fretsaw': 1193, 'you’ll': 1194, 'hanging': 1195, 'ourselves': 1196, 'stubborn': 1197, 'unwell': 1198, 'fortunately': 1199, '“no”': 1200, 'cry': 1201, 'danger': 1202, 'abandoning': 1203, 'excuse': 1204, 'worried': 1205, '“mr': 1206, 'yourself': 1207, 'unnecessary': 1208, 'unheard': 1209, 'behalf': 1210, 'request': 1211, 'am': 1212, 'showing': 1213, 'failure': 1214, 'stubbornness': 1215, 'whatsoever': 1216, 'secure': 1217, 'intended': 1218, 'grant': 1219, 'allow': 1220, '“but': 1221, 'forgetting': 1222, 'attack': 1223, 'haven’t': 1224, 'staying': 1225, 'eight': 1226, 'sir': 1227, 'insistent': 1228, 'curious': 1229, 'climb': 1230, 'swing': 1231, 'tightly': 1232, 'calmed': 1233, 'cried': 1234, '“mother': 1235, 'quick': 1236, 'spoke': 1237, 'girls': 1238, 'surprising': 1239, 'judge': 1240, 'whispering': 1241, 'adhesive': 1242, 'rested': 1243, 'grasp': 1244, 'jaw': 1245, 'ignoring': 1246, 'excitedly': 1247, 'concentration': 1248, 'handle': 1249, 'entering': 1250, 'sounded': 1251, 'driven': 1252, 'steady': 1253, 'unfolded': 1254, 'sank': 1255, 'fists': 1256, 'wanting': 1257, 'shook': 1258, 'bolted': 1259, 'windows': 1260, 'piercing': 1261, 'washing': 1262, 'newspapers': 1263, 'opposite': 1264, 'stairs': 1265, 'commercial': 1266, 'achieved': 1267, 'travellers': 1268, 'overview': 1269, 'staff': 1270, 'exhausted': 1271, 'lips': 1272, 'trembling': 1273, 'prohibition': 1274, 'panic': 1275, 'stairway': 1276, 'besides': 1277, 'understood': 1278, 'banister': 1279, 'believing': 1280, 'swayed': 1281, 'jumped': 1282, 'fingers': 1283, 'hurrying': 1284, 'mother”': 1285, 'jaws': 1286, 'screaming': 1287, 'chin': 1288, 'run': 1289, 'reaching': 1290, 'overcoat': 1291, 'stamped': 1292, 'noises': 1293, 'choice': 1294, 'frequent': 1295, 'unbearable': 1296, 'pleased': 1297, 'occur': 1298, 'space': 1299, 'experience': 1300, 'regard': 1301, 'stuck': 1302, 'woken': 1303, 'afterwards': 1304, 'hadn’t': 1305, 'impression': 1306, 'leading': 1307, 'electric': 1308, 'badly': 1309, 'dragged': 1310, 'pieces': 1311, 'bread': 1312, 'disappointment': 1313, 'tender': 1314, 'worked': 1315, 'taste': 1316, 'crack': 1317, 'pride': 1318, 'frightening': 1319, 'previous': 1320, 're': 1321, 'arrange': 1322, 'shame': 1323, 'passed': 1324, 'frequently': 1325, 'led': 1326, 'stranger': 1327, 'hungry': 1328, 'draw': 1329, 'splashed': 1330, 'vegetables': 1331, 'sauce': 1332, 'dry': 1333, 'salt': 1334, 'water': 1335, 'permanently': 1336, 'aside': 1337, 'placed': 1338, 'injuries': 1339, 'hurt': 1340, 'less': 1341, 'foods': 1342, 'suffocating': 1343, 'distress': 1344, 'comment': 1345, 'cleared': 1346, 'rooms': 1347, 'meals': 1348, 'subject': 1349, 'hour': 1350, 'thanks': 1351, 'prospects': 1352, 'cash': 1353, 'collapsed': 1354, 'reduced': 1355, 'ways': 1356, 'success': 1357, 'gratitude': 1358, 'unlike': 1359, 'plan': 1360, 'expense': 1361, 'christmas': 1362, 'interrupted': 1363, 'explanations': 1364, 'unexpected': 1365, 'holiday': 1366, 'elderly': 1367, 'suffered': 1368, 'struggling': 1369, 'child': 1370, 'wearing': 1371, 'helping': 1372, 'leather': 1373, 'hot': 1374, 'lie': 1375, 'known': 1376, 'lived': 1377, 'city': 1378, 'twice': 1379, 'tidied': 1380, 'easier': 1381, 'burdensome': 1382, 'unpleasant': 1383, 'transformation': 1384, 'staring': 1385, 'threatened': 1386, 'arrangement': 1387, 'appreciated': 1388, 'somewhat': 1389, 'listened': 1390, 'closely': 1391, 'removing': 1392, 'helped': 1393, 'choose': 1394, 'express': 1395, 'heaviest': 1396, 'warnings': 1397, 'minutes': 1398, 'abandoned': 1399, '“and': 1400, 'months': 1401, 'age': 1402, 'refused': 1403, 'dissuade': 1404, 'poked': 1405, 'considerate': 1406, 'prevent': 1407, 'fro': 1408, 'containing': 1409, 'glass': 1410, 'watch': 1411, 'met': 1412, 'let’s': 1413, 'spoken': 1414, 'bottles': 1415, 'reproach': 1416, 'confusion': 1417, 'fainted': 1418, 'disappear': 1419, 'neglected': 1420, 'laying': 1421, 'nightgown': 1422, 'walk': 1423, 'companions': 1424, 'collar': 1425, 'bank': 1426, 'strict': 1427, 'forgot': 1428, 'shock': 1429, 'point': 1430, 'lodged': 1431, 'dared': 1432, 'injury': 1433, 'contrary': 1434, 'thus': 1435, 'hotel': 1436, 'shop': 1437, 'wake': 1438, 'sewing': 1439, 'exchange': 1440, 'peaceful': 1441, 'tug': 1442, 'ear': 1443, 'smaller': 1444, 'sold': 1445, 'address': 1446, 'strangers': 1447, 'cheek': 1448, 'shown': 1449, 'indifferent': 1450, 'dirt': 1451, 'closing': 1452, 'amazement': 1453, 'crossed': 1454, 'failed': 1455, 'dung': 1456, 'beetle': 1457, 'toward': 1458, 'prepared': 1459, 'spit': 1460, 'lain': 1461, 'meat': 1462, 'bowed': 1463, 'perform': 1464, 'throughout': 1465, 'produced': 1466, 'love': 1467, 'begin': 1468, 'seat': 1469, 'everywhere': 1470, 'obvious': 1471, 'beautiful': 1472, 'expression': 1473, 'meet': 1474, 'emotion': 1475, 'lap': 1476, 'beds': 1477, 'owed': 1478, 'tenants': 1479, 'action': 1480, 'ahead': 1481, 'weak': 1482, '“we': 1483, 'brother': 1484, 'endure': 1485, 'certainty': 1486, '“if': 1487, 'vigorously': 1488, '“that’s': 1489, 'willing': 1490, 'required': 1491, 'glance': 1492, 'weaker': 1493, 'slamming': 1494, 'she’d': 1495, 'special': 1496, 'dead': 1497, 'said”': 1498, 'sending': 1499, 'corpse': 1500, 'wife': 1501, 'irritation': 1502, 'tram': 1503, 'agreed': 1504, 'confirmation': 1505, 'file': 1506, 'files': 1507, 'formats': 1508, 'owns': 1509, 'concept': 1510, 'registered': 1511, 'research': 1512, 'printed': 1513, 'redistribution': 1514, 'promoting': 1515, 'redistributing': 1516, 'intellectual': 1517, 'property': 1518, 'destroy': 1519, 'obtaining': 1520, 'b': 1521, 'domain': 1522, 'based': 1523, 'references': 1524, 'imposed': 1525, 'concerning': 1526, 'sentence': 1527, 'active': 1528, 'prominently': 1529, 'copied': 1530, 'cost': 1531, 'does': 1532, 'contain': 1533, '6': 1534, 'marked': 1535, 'plain': 1536, 'vanilla': 1537, 'ascii': 1538, 'upon': 1539, 'specified': 1540, 'date': 1541, 'prepare': 1542, 'physical': 1543, 'accordance': 1544, '90': 1545, 'considerable': 1546, 'computer': 1547, 'warranty': 1548, 'expenses': 1549, 'legal': 1550, 'breach': 1551, 'lieu': 1552, 'electronically': 1553, 'implied': 1554, 'certain': 1555, 'permitted': 1556, 'readable': 1557, 'widest': 1558, 'computers': 1559, 'generations': 1560, 'created': 1561, 'exempt': 1562, 'federal': 1563, 'contributions': 1564, 'email': 1565, 'solicit': 1566, 'accepted': 1567, 'troubled': 1568, 'transformed': 1569, 'vermin': 1570, 'armour': 1571, 'domed': 1572, 'divided': 1573, 'arches': 1574, 'bedding': 1575, 'cover': 1576, 'slide': 1577, 'pitifully': 1578, 'compared': 1579, 'waved': 1580, 'helplessly': 1581, 'textile': 1582, 'table—samsa': 1583, 'salesman—and': 1584, 'illustrated': 1585, 'magazine': 1586, 'housed': 1587, 'gilded': 1588, 'boa': 1589, 'muff': 1590, 'viewer': 1591, '“how': 1592, 'nonsense”': 1593, 'hundred': 1594, 'floundering': 1595, 'mild': 1596, 'god”': 1597, 'strenuous': 1598, 'career': 1599, 'connections': 1600, 'irregular': 1601, 'hell': 1602, 'headboard': 1603, 'lots': 1604, 'spots': 1605, 'shudder': 1606, 'former': 1607, '“getting': 1608, 'time”': 1609, '“it': 1610, 'luxury': 1611, 'guest': 1612, 'kicked': 1613, 'knows': 1614, 'funny': 1615, 'subordinates': 1616, 'parents’': 1617, 'him—another': 1618, 'suppose—that’s': 1619, 'leaves': 1620, 'ticking': 1621, '“god': 1622, 'heaven': 1623, 'rattling': 1624, 'packed': 1625, 'spineless': 1626, 'sick': 1627, 'strained': 1628, 'medical': 1629, 'insurance': 1630, 'lazy': 1631, 'doctor’s': 1632, 'recommendation': 1633, 'believed': 1634, 'workshy': 1635, 'case': 1636, 'excessive': 1637, 'sleepiness': 1638, 'thinking': 1639, 'decide': 1640, 'called—it': 1641, 'mother—“it’s': 1642, 'gentle': 1643, 'answering': 1644, 'recognised': 1645, 'uncontrollable': 1646, 'squeaking': 1647, 'echo': 1648, 'unclear': 1649, 'hearer': 1650, 'unsure': 1651, 'contented': 1652, 'satisfied': 1653, 'shuffled': 1654, 'expectations': 1655, 'warning': 1656, 'deepness': 1657, 'plaintively': 1658, 'aren’t': 1659, '“i’m': 1660, 'strangeness': 1661, 'enunciating': 1662, 'pauses': 1663, 'congratulated': 1664, 'locking': 1665, 'awkwardly': 1666, 'pure': 1667, 'imagination': 1668, 'wondered': 1669, 'imaginings': 1670, 'resolve': 1671, 'doubt': 1672, 'occupational': 1673, 'hazard': 1674, 'exceptionally': 1675, 'continuously': 1676, 'leg': 1677, '“this': 1678, 'bed”': 1679, 'frenzy': 1680, 'carelessly': 1681, 'shoved': 1682, 'chose': 1683, 'bedpost': 1684, 'burning': 1685, 'breadth': 1686, 'bulk': 1687, 'lose': 1688, 'consciousness': 1689, 'sighing': 1690, 'struggled': 1691, 'chaos': 1692, 'rushing': 1693, 'desperate': 1694, 'enveloped': 1695, 'cheer': 1696, 'offer': 1697, 'already”': 1698, 'stillness': 1699, 'natural': 1700, '“before': 1701, 'strikes': 1702, 'swinging': 1703, 'length': 1704, 'succeeded': 1705, 'injuring': 1706, 'risked': 1707, 'sticking': 1708, 'bed—the': 1709, 'game': 1710, 'rock': 1711, 'forth—it': 1712, 'people—he': 1713, 'mind—would': 1714, 'dome': 1715, 'peel': 1716, 'hopefully': 1717, 'suppress': 1718, 'balance': 1719, 'rocked': 1720, 'final': 1721, 'ring': 1722, '“that’ll': 1723, 'work”': 1724, 'danced': 1725, '“they’re': 1726, 'door”': 1727, 'nonsensical': 1728, 'maid’s': 1729, 'visitor’s': 1730, 'greeting': 1731, 'was—the': 1732, 'condemned': 1733, 'shortcoming': 1734, 'louts': 1735, 'faithful': 1736, 'devoted': 1737, 'pangs': 1738, 'conscience': 1739, 'trainees': 1740, 'enquiries—assuming': 1741, 'enquiries': 1742, 'necessary—did': 1743, 'trusted': 1744, 'wisdom': 1745, 'investigate': 1746, 'thump': 1747, 'softened': 1748, 'elastic': 1749, 'muffled': 1750, 'noticeable': 1751, '“something’s': 1752, 'there”': 1753, 'concede': 1754, 'gruff': 1755, 'footsteps': 1756, 'adjoining': 1757, 'know”': 1758, 'daring': 1759, '“the': 1760, 'personally': 1761, 'forgive': 1762, 'untidiness': 1763, '“good': 1764, 'well”': 1765, 'missed': 1766, 'lad': 1767, 'thinks': 1768, 'cross': 1769, 'goes': 1770, 'sits': 1771, 'reads': 1772, 'studies': 1773, 'timetables': 1774, 'opens': 1775, 'moment”': 1776, 'thoughtfully': 1777, 'miss': 1778, 'commerce': 1779, 'considerations': 1780, '“can': 1781, 'impatiently': 1782, 'join': 1783, 'begun': 1784, 'losing': 1785, 'pursue': 1786, 'demands': 1787, 'minor': 1788, 'discourtesy': 1789, 'sacked': 1790, 'disturbing': 1791, 'barricade': 1792, 'fail—and': 1793, 'mention': 1794, 'way—you': 1795, 'fail': 1796, 'duties': 1797, 'peculiar': 1798, 'whims': 1799, 'suggest': 1800, 'true—it': 1801, 'entrusted': 1802, 'you—but': 1803, 'honour': 1804, 'incomprehensible': 1805, 'intercede': 1806, 'originally': 1807, 'private': 1808, 'turnover': 1809, 'unsatisfactory': 1810, 'recognise': 1811, 'sir”': 1812, 'excitement': 1813, 'dizziness': 1814, 'symptom': 1815, 'illness': 1816, 'basis': 1817, 'accusations': 1818, 'nobody’s': 1819, 'latest': 1820, 'contracts': 1821, 'recommend': 1822, 'gushed': 1823, 'drawers—this': 1824, 'practise': 1825, 'bed—where': 1826, 'responsibility': 1827, 'station': 1828, 'smooth': 1829, 'nearby': 1830, 'edges': 1831, '“did': 1832, '“surely': 1833, 'fools': 1834, 'communicated': 1835, '“you’ll': 1836, 'animal”': 1837, 'calmness': 1838, 'screams': 1839, '“anna': 1840, 'anna': 1841, 'clapping': 1842, '“get': 1843, 'swishing': 1844, 'wrenching': 1845, 'banging': 1846, 'homes': 1847, 'awful': 1848, 'calmer': 1849, 'clearer': 1850, 'before—perhaps': 1851, 'ears': 1852, 'response': 1853, 'confident': 1854, 'wise': 1855, 'among': 1856, 'achievements—although': 1857, 'distinguish': 1858, 'crucial': 1859, 'coughed': 1860, 'care': 1861, 'coughs': 1862, 'tips': 1863, 'recover': 1864, 'involved': 1865, 'teeth—how': 1866, '—but': 1867, 'fluid': 1868, 'dripped': 1869, '“listen”': 1870, 'greatly': 1871, 'encouraged': 1872, 'calling': 1873, '“keep': 1874, 'snapped': 1875, 'regained': 1876, 'all”': 1877, 'exclaim': 1878, 'soughing': 1879, 'wind': 1880, 'him—he': 1881, 'nearest': 1882, 'door—his': 1883, 'retreating': 1884, 'invisible': 1885, 'dishevelled': 1886, 'breast': 1887, 'hostile': 1888, 'clenched': 1889, 'uncertainly': 1890, 'wept': 1891, 'powerful': 1892, 'peered': 1893, 'lighter': 1894, 'endless': 1895, 'black': 1896, 'building': 1897, 'street—which': 1898, 'hospital—could': 1899, 'austere': 1900, 'regular': 1901, 'façade': 1902, 'throwing': 1903, 'droplets': 1904, 'photograph': 1905, 'lieutenant': 1906, 'army': 1907, 'sword': 1908, 'carefree': 1909, 'bearing': 1910, 'pack': 1911, 'see”': 1912, 'traveller': 1913, 'arduous': 1914, 'accurately': 1915, 'temporarily': 1916, 'diligence': 1917, 'trapped': 1918, 'likes': 1919, 'wage': 1920, 'soft': 1921, 'prejudice': 1922, 'himself—it’s': 1923, 'businessman': 1924, 'mistakes': 1925, 'harshly': 1926, 'victim': 1927, 'gossip': 1928, 'groundless': 1929, 'complaints': 1930, 'defend': 1931, 'arrive': 1932, 'trip': 1933, 'harmful': 1934, 'effects': 1935, 'protruding': 1936, 'stared': 1937, 'steadily': 1938, 'gradually': 1939, 'supernatural': 1940, 'extreme': 1941, 'won': 1942, 'depended': 1943, 'clever': 1944, 'lover': 1945, 'surely': 1946, 'considering': 1947, 'speech': 1948, 'not—or': 1949, 'not—be': 1950, 'reach': 1951, 'ridiculously': 1952, 'scream': 1953, 'sought': 1954, 'numerous': 1955, 'solid': 1956, 'sorrows': 1957, 'crouched': 1958, 'engrossed': 1959, 'shouting': 1960, '“help': 1961, 'pity’s': 1962, 'suggested': 1963, 'unthinking': 1964, 'seeming': 1965, 'pot': 1966, 'knocked': 1967, 'gush': 1968, 'pouring': 1969, 'snapping': 1970, 'flow': 1971, 'anew': 1972, 'leapt': 1973, 'shouts': 1974, 'resounding': 1975, 'staircase': 1976, 'flight': 1977, 'controlled': 1978, 'impeding': 1979, 'seized': 1980, 'stamping': 1981, 'humbly': 1982, 'chilly': 1983, 'draught': 1984, 'curtains': 1985, 'fluttered': 1986, 'blown': 1987, 'drove': 1988, 'wild': 1989, 'practice': 1990, 'impatient': 1991, 'threat': 1992, 'lethal': 1993, 'disgust': 1994, 'incapable': 1995, 'anxious': 1996, 'glances': 1997, 'hinder': 1998, 'confused': 1999, 'mistake': 2000, 'fixed': 2001, 'preparation': 2002, 'pleasant': 2003, 'angle': 2004, 'flank': 2005, 'scraped': 2006, 'vile': 2007, 'flecks': 2008, 'quivering': 2009, 'hefty': 2010, 'released': 2011, 'flying': 2012, 'bleeding': 2013, 'ii': 2014, 'awoke': 2015, 'coma': 2016, 'lamps': 2017, 'shone': 2018, 'palely': 2019, 'tops': 2020, 'clumsily': 2021, 'antennae—of': 2022, 'value—in': 2023, 'scar': 2024, 'limped': 2025, 'rows': 2026, 'events': 2027, 'morning—it': 2028, 'been—and': 2029, 'lifelessly': 2030, 'sweetened': 2031, 'floating': 2032, 'laughed': 2033, 'dipped': 2034, 'covering': 2035, 'food—he': 2036, 'snuffling': 2037, 'whole—but': 2038, 'favourite': 2039, 'drink': 2040, 'centre': 2041, 'gas': 2042, 'lit': 2043, 'write': 2044, 'recent': 2045, 'lead”': 2046, 'gazing': 2047, 'wealth': 2048, 'comfort': 2049, 'resolved': 2050, 'timorous': 2051, 'visitor': 2052, 'vain': 2053, 'unlocked': 2054, 'keys': 2055, 'gaslight': 2056, 'awake': 2057, 'distinctly': 2058, 'plenty': 2059, 'undisturbed': 2060, 'tall': 2061, 'ease': 2062, 'underneath': 2063, 'vague': 2064, 'hopes': 2065, 'conclusion': 2066, 'patience': 2067, 'unpleasantness': 2068, 'impose': 2069, 'decisions': 2070, 'ended': 2071, 'couch—he': 2072, 'god’s': 2073, 'flown': 2074, 'away—she': 2075, 'edge': 2076, 'terrible': 2077, 'up—using': 2078, 'rag': 2079, 'hands—and': 2080, 'imagining': 2081, 'wildest': 2082, 'possibilities': 2083, 'guessed': 2084, 'goodness': 2085, 'selection': 2086, 'rotten': 2087, 'bones': 2088, 'raisins': 2089, 'almonds': 2090, 'declared': 2091, 'inedible': 2092, 'roll': 2093, 'butter': 2094, 'poured': 2095, 'feelings': 2096, 'whirred': 2097, 'healed': 2098, 'knife': 2099, 'yesterday': 2100, '“am': 2101, 'sucking': 2102, 'greedily': 2103, 'compellingly': 2104, 'attracted': 2105, 'watering': 2106, 'consumed': 2107, 'lethargic': 2108, 'withdraw': 2109, 'rounded': 2110, 'bulging': 2111, 'unselfconsciously': 2112, 'swept': 2113, 'overs': 2114, 'mixing': 2115, 'dropped': 2116, 'bin': 2117, 'lid': 2118, 'errand': 2119, 'starve': 2120, 'feeding': 2121, 'suffering': 2122, 'content': 2123, 'sighs': 2124, 'saints': 2125, 'everything—there': 2126, 'situation—that': 2127, 'construed': 2128, 'enjoyed': 2129, 'today”': 2130, 'diligently': 2131, 'sadly': 2132, 'everything’s': 2133, 'again”': 2134, 'scurry': 2135, 'appropriate': 2136, 'press': 2137, 'seldom': 2138, 'mealtime': 2139, 'home—nobody': 2140, 'knees': 2141, 'begged': 2142, 'tearfully': 2143, 'thanking': 2144, 'dismissal': 2145, 'swore': 2146, 'emphatically': 2147, 'cooking': 2148, 'bother': 2149, 'unsuccessfully': 2150, '“no': 2151, 'enough”': 2152, 'similar': 2153, 'drank': 2154, 'beer': 2155, 'hoping': 2156, 'add': 2157, 'selfish': 2158, 'housekeeper': 2159, 'explained': 2160, 'finances': 2161, 'document': 2162, 'box': 2163, 'saved': 2164, 'complicated': 2165, 'item': 2166, 'incarcerated': 2167, 'fiery': 2168, 'vigour': 2169, 'junior': 2170, 'salesman': 2171, 'representative': 2172, 'overnight': 2173, 'converted': 2174, 'benefit': 2175, 'delighted': 2176, 'splendour': 2177, 'affection': 2178, 'gifted': 2179, 'expressive': 2180, 'violinist': 2181, 'periods': 2182, 'mentioned': 2183, 'lovely': 2184, 'planned': 2185, 'grand': 2186, 'announcement': 2187, 'pointless': 2188, 'wearily': 2189, 'matters': 2190, 'misfortunes': 2191, 'meantime': 2192, 'accumulated': 2193, 'accumulating': 2194, 'enthusiasm': 2195, 'thrift': 2196, 'caution': 2197, 'surplus': 2198, 'reduce': 2199, 'freed': 2200, 'enable': 2201, 'maintain': 2202, 'emergencies': 2203, 'healthy': 2204, 'lacking': 2205, 'working—the': 2206, 'success—he': 2207, 'clumsy': 2208, 'asthma': 2209, 'seventeen': 2210, 'till': 2211, 'enviable': 2212, 'consisting': 2213, 'joining': 2214, 'modest': 2215, 'pleasures': 2216, 'cool': 2217, 'wink': 2218, 'scratching': 2219, 'climbing': 2220, 'sill': 2221, 'propped': 2222, 'leaning': 2223, 'stare': 2224, 'sense': 2225, 'freedom': 2226, 'distinct': 2227, 'hospital': 2228, 'charlottenstrasse': 2229, 'barren': 2230, 'sky': 2231, 'earth': 2232, 'mingled': 2233, 'inseparably': 2234, 'observant': 2235, 'exact': 2236, 'inner': 2237, 'naturally': 2238, 'pretend': 2239, 'entered': 2240, 'sooner': 2241, 'precaution': 2242, 'shivering': 2243, 'ordeal': 2244, 'motionless': 2245, 'bite': 2246, 'hide': 2247, 'flee': 2248, 'protruded': 2249, 'bedsheet': 2250, 'arranged': 2251, 'glimpsed': 2252, 'fourteen': 2253, 'girl': 2254, 'useless': 2255, 'behaved': 2256, 'persuaded': 2257, 'approved': 2258, '“let': 2259, 'unfortunate': 2260, 'courage': 2261, 'adult’s': 2262, 'appreciation': 2263, 'square': 2264, 'meters': 2265, 'entertain': 2266, 'relaxed': 2267, 'happy': 2268, 'crash': 2269, 'himself—he': 2270, 'traces': 2271, 'about—and': 2272, 'sixteen': 2273, 'bravely': 2274, 'cook': 2275, 'approached': 2276, 'joy': 2277, 'folds': 2278, 'refrained': 2279, 'spying': 2280, '“you': 2281, 'seen”': 2282, 'pair': 2283, 'feeble': 2284, 'heaving': 2285, 'lasted': 2286, 'labouring': 2287, 'fifteen': 2288, 'saddened': 2289, 'heart': 2290, 'whose': 2291, 'whereabouts': 2292, 'tone': 2293, 'added': 2294, 'won’t': 2295, 'cope': 2296, 'it’d': 2297, 'comes': 2298, 'unchanged': 2299, 'easier”': 2300, 'communication': 2301, 'monotonous': 2302, 'confused—he': 2303, 'emptied': 2304, 'transform': 2305, 'cave': 2306, 'inherited': 2307, 'unimpeded': 2308, 'shaken': 2309, 'influence': 2310, 'mindlessly': 2311, 'loss': 2312, 'advantage': 2313, 'spokesman': 2314, 'concerned': 2315, 'advice': 2316, 'sufficient': 2317, 'childish': 2318, 'perversity': 2319, 'whereas': 2320, 'enthusiastic': 2321, 'tempted': 2322, 'dominated': 2323, 'groaning': 2324, 'pulling': 2325, 'inch': 2326, 'startlement': 2327, 'attract': 2328, 'assure': 2329, 'unusual': 2330, 'calls': 2331, 'scraping': 2332, 'assailed': 2333, 'emptying': 2334, 'dear': 2335, 'tools': 2336, 'homework': 2337, 'trainee': 2338, 'school': 2339, 'infant': 2340, 'school—he': 2341, 'women’s': 2342, 'catching': 2343, 'sallied': 2344, 'wall—which': 2345, 'denuded': 2346, 'it—of': 2347, 'copious': 2348, 'firmly': 2349, 'albeit': 2350, 'tremor': 2351, 'safe': 2352, 'unyielding': 2353, 'jump': 2354, 'patch': 2355, 'flowers': 2356, 'wallpaper': 2357, 'oh': 2358, 'glowering': 2359, 'smelling': 2360, 'salts': 2361, 'faint': 2362, 'too—he': 2363, 'advise': 2364, 'bottle': 2365, 'splinter': 2366, 'caustic': 2367, 'medicine': 2368, 'delaying': 2369, 'oppressed': 2370, 'anxiety': 2371, 'spin': 2372, 'numb': 2373, 'subdued': 2374, 'openly': 2375, '“mother’s': 2376, 'she’s': 2377, 'expected”': 2378, 'responsible': 2379, 'act': 2380, 'violence': 2381, 'subtleties': 2382, '“ah': 2383, 'sounding': 2384, 'angry': 2385, 'imagined': 2386, 'entombed': 2387, 'trips': 2388, 'armchair': 2389, 'sunday': 2390, 'wrapped': 2391, 'labour': 2392, 'walking': 2393, 'invariably': 2394, 'smart': 2395, 'blue': 2396, 'banking': 2397, 'institute': 2398, 'emerged': 2399, 'bushy': 2400, 'eyebrows': 2401, 'alert': 2402, 'unkempt': 2403, 'combed': 2404, 'scalp': 2405, 'monogram': 2406, 'arc': 2407, 'trouser': 2408, 'bottom': 2409, 'determination': 2410, 'walked': 2411, 'unusually': 2412, 'soles': 2413, 'wasted': 2414, 'that—he': 2415, 'scurried': 2416, 'decisive': 2417, 'largely': 2418, 'feared': 2419, 'provoking': 2420, 'step': 2421, 'countless': 2422, 'noticeably': 2423, 'lungs': 2424, 'reliable': 2425, 'lurched': 2426, 'muster': 2427, 'saving': 2428, 'concealed': 2429, 'carved': 2430, 'notches': 2431, 'protrusions—then': 2432, 'tossed': 2433, 'bombard': 2434, 'fruit': 2435, 'bowl': 2436, 'sideboard': 2437, 'aim': 2438, 'red': 2439, 'apples': 2440, 'motors': 2441, 'glanced': 2442, 'harm': 2443, 'squarely': 2444, 'drag': 2445, 'incredible': 2446, 'changing': 2447, 'nailed': 2448, 'senses': 2449, 'blouse': 2450, 'unfastened': 2451, 'sliding': 2452, 'stumbling': 2453, 'uniting': 2454, 'totally—now': 2455, 'ability': 2456, 'anything—her': 2457, 'begging': 2458, 'iii': 2459, 'flesh': 2460, 'visible': 2461, 'reminder': 2462, 'revolting': 2463, 'member': 2464, 'treated': 2465, 'enemy': 2466, 'duty': 2467, 'swallow': 2468, 'revulsion': 2469, 'mobility—probably': 2470, 'ancient': 2471, 'invalid': 2472, 'room—crawling': 2473, 'question—but': 2474, 'deterioration': 2475, 'opinion': 2476, 'conversation—with': 2477, 'everyone’s': 2478, 'differently': 2479, 'conversations': 2480, 'ones': 2481, 'longing': 2482, 'damp': 2483, 'nowadays': 2484, 'lamp': 2485, 'sew': 2486, 'fancy': 2487, 'underwear': 2488, 'fashion': 2489, 'sales': 2490, 'shorthand': 2491, 'french': 2492, '“you’re': 2493, 'dozing—and': 2494, 'grin': 2495, 'unused': 2496, 'peg': 2497, 'slumber': 2498, 'serve': 2499, 'expecting': 2500, 'superior': 2501, 'result': 2502, 'shabbier': 2503, 'stains': 2504, 'shiny': 2505, 'uncomfortable': 2506, 'obstinate': 2507, 'regularly': 2508, 'importune': 2509, 'reproaches': 2510, 'refusing': 2511, 'sleeve': 2512, 'whisper': 2513, 'endearments': 2514, 'effect': 2515, 'sink': 2516, 'deeper': 2517, 'abruptly': 2518, 'supported': 2519, 'needle': 2520, 'pen': 2521, 'overworked': 2522, 'household': 2523, 'budget': 2524, 'dismissed': 2525, 'thick': 2526, 'boned': 2527, 'flapped': 2528, 'amount': 2529, 'hoped': 2530, 'items': 2531, 'jewellery': 2532, 'belonging': 2533, 'functions': 2534, 'celebrations': 2535, 'loudest': 2536, 'complaint': 2537, 'imaginable': 2538, 'transferring': 2539, 'reasons': 2540, 'transport': 2541, 'crate': 2542, 'holes': 2543, 'related': 2544, 'expects': 2545, 'poor': 2546, 'sacrificed': 2547, 'behest': 2548, 'customers': 2549, '“close': 2550, 'grete”': 2551, 'mingle': 2552, 'eyed': 2553, 'family’s': 2554, 'affairs': 2555, 'apprentices': 2556, 'teaboy': 2557, 'businesses': 2558, 'chambermaids': 2559, 'provincial': 2560, 'memory': 2561, 'cashier': 2562, '—all': 2563, 'inaccessible': 2564, 'rage': 2565, 'plans': 2566, 'pantry': 2567, 'entitled': 2568, 'sweep': 2569, 'or—more': 2570, 'not—had': 2571, 'untouched': 2572, 'quicker': 2573, 'smears': 2574, 'balls': 2575, 'filth': 2576, 'worst': 2577, 'places': 2578, 'weeks': 2579, 'touchy': 2580, 'understood—cleaning': 2581, 'thoroughly': 2582, 'bucketfuls': 2583, 'it—although': 2584, 'dampness': 2585, 'bitter': 2586, 'punished': 2587, 'aggrieved': 2588, 'mothers': 2589, 'imploring': 2590, 'convulsive': 2591, 'helpless': 2592, 'agitated': 2593, 'accused': 2594, 'cleaning': 2595, 'quaking': 2596, 'thumped': 2597, 'hissed': 2598, 'widow': 2599, 'robust': 2600, 'bone': 2601, 'structure': 2602, 'withstand': 2603, 'hardest': 2604, 'repelled': 2605, 'curiosity': 2606, 'chasing': 2607, 'considered': 2608, '“look': 2609, 'responded': 2610, 'disturb': 2611, 'windowpanes': 2612, 'spring': 2613, 'resentful': 2614, 'infirm': 2615, 'intending': 2616, '“aren’t': 2617, 'changes': 2618, 'earnest': 2619, 'gentlemen—all': 2620, 'peering': 2621, 'day—were': 2622, 'things’': 2623, 'tidy': 2624, 'establishment': 2625, 'clutter': 2626, 'tolerate': 2627, 'dirty': 2628, 'furnishings': 2629, 'superfluous': 2630, 'discard': 2631, 'dustbins': 2632, 'chuck': 2633, 'object': 2634, 'woman': 2635, 'likely': 2636, 'junk': 2637, 'enjoy': 2638, 'darkest': 2639, 'formerly': 2640, 'serviettes': 2641, 'knives': 2642, 'forks': 2643, 'piled': 2644, 'potatoes': 2645, 'steaming': 2646, 'dishes': 2647, 'count': 2648, 'authority': 2649, 'piece': 2650, 'wishing': 2651, 'establish': 2652, 'sufficiently': 2653, 'cooked': 2654, 'satisfaction': 2655, 'mumbled': 2656, 'perfect': 2657, 'remarkable': 2658, 'chewing': 2659, 'toothless': 2660, '“i’d': 2661, 'something”': 2662, 'they’re': 2663, 'feed': 2664, 'dying': 2665, 'smoking': 2666, 'attentive': 2667, '“is': 2668, '“on': 2669, 'contrary”': 2670, '“would': 2671, 'cosy': 2672, 'we’d': 2673, 'to”': 2674, 'player': 2675, 'therefore': 2676, 'exaggerated': 2677, 'courtesy': 2678, 'offered': 2679, 'sat—leaving': 2680, 'it—out': 2681, 'thoughtless': 2682, 'hidden': 2683, 'threads': 2684, 'hairs': 2685, 'remains': 2686, 'wipe': 2687, 'shy': 2688, 'immaculate': 2689, 'preoccupied': 2690, 'notes': 2691, 'withdrew': 2692, 'heads': 2693, 'sunk': 2694, 'volume': 2695, 'observed': 2696, 'disappointed': 2697, 'performance': 2698, 'politeness': 2699, 'unnerving': 2700, 'blew': 2701, 'smoke': 2702, 'cigarettes': 2703, 'upwards': 2704, 'noses': 2705, 'beautifully': 2706, 'lines': 2707, 'melancholy': 2708, 'captivate': 2709, 'unknown': 2710, 'nourishment': 2711, 'yearning': 2712, 'determined': 2713, 'skirt': 2714, 'hiss': 2715, 'attackers': 2716, 'christmas—had': 2717, '—if': 2718, 'refuse': 2719, 'shoulder': 2720, 'kiss': 2721, 'necklace': 2722, 'pointing': 2723, 'wasting': 2724, 'forefinger': 2725, 'driving': 2726, 'attempted': 2727, 'block': 2728, 'dawning': 2729, 'realisation': 2730, 'neighbour': 2731, 'tugged': 2732, 'drop': 2733, 'bow': 2734, 'hang': 2735, 'limply': 2736, 'instrument': 2737, 'laboriously': 2738, 'pressure': 2739, 'pillows': 2740, 'slipped': 2741, 'obsessed': 2742, 'urged': 2743, 'thunder': 2744, 'thereby': 2745, 'halt': 2746, 'declare': 2747, 'glancing': 2748, 'gain': 2749, 'repugnant': 2750, 'conditions': 2751, 'prevail': 2752, 'family”—here': 2753, 'decisively': 2754, 'floor—“i': 2755, 'proceed': 2756, 'grounds': 2757, 'joined': 2758, 'staggered': 2759, 'stretching': 2760, 'nap': 2761, 'uncontrolled': 2762, 'nodding': 2763, '“father': 2764, 'introduction': 2765, 'monster': 2766, 'humanly': 2767, '“she’s': 2768, 'right”': 2769, 'cough': 2770, 'dully': 2771, 'deranged': 2772, 'forehead': 2773, 'definite': 2774, 'ideas': 2775, 'plates': 2776, 'occasionally': 2777, 'coughing': 2778, '“it’ll': 2779, 'tortured': 2780, 'wiped': 2781, 'mechanical': 2782, '“my': 2783, 'child”': 2784, 'sympathy': 2785, 'shrugged': 2786, 'helplessness': 2787, 'displacing': 2788, 'acceptance': 2789, '“then': 2790, '“it’s': 2791, 'go”': 2792, 'harmed': 2793, 'beings': 2794, 'lives': 2795, 'persecuting': 2796, 'streets': 2797, 'look”': 2798, 'starting': 2799, 'beyond': 2800, 'comprehension': 2801, 'excited': 2802, 'startling': 2803, 'wracked': 2804, 'deal': 2805, 'repeatedly': 2806, 'striking': 2807, 'alarmed': 2808, 'unhappy': 2809, 'exhaustion': 2810, '“maybe': 2811, 'they’ll': 2812, 'round”': 2813, 'panting': 2814, 'separated': 2815, 'noticing': 2816, 'concentrated': 2817, 'distract': 2818, 'sprung': 2819, '“at': 2820, 'discovery': 2821, 'spindly': 2822, 'unnatural': 2823, 'aching': 2824, 'altogether': 2825, 'decayed': 2826, 'inflamed': 2827, 'area': 2828, 'strongly': 2829, 'rumination': 2830, 'tower': 2831, 'strike': 2832, 'weakly': 2833, 'nostrils': 2834, 'morning—they’d': 2835, 'peace—she': 2836, 'brief': 2837, 'martyr': 2838, 'attributed': 2839, 'tickle': 2840, 'nuisance': 2841, 'resistance': 2842, 'whistled': 2843, 'yank': 2844, 'shout': 2845, 'bedrooms': 2846, '’ave': 2847, 'stone': 2848, 'marriage': 2849, 'blanket': 2850, 'nightdress': 2851, 'paleness': 2852, 'confirm': 2853, '“dead': 2854, 'enquiringly': 2855, 'checked': 2856, 'checking': 2857, 'replied': 2858, 'prove': 2859, 'sideways': 2860, 'complete': 2861, '“let’s': 2862, 'that”': 2863, 'example': 2864, 'in”': 2865, 'dried': 2866, '“grete': 2867, 'while”': 2868, 'pained': 2869, 'warmth': 2870, 'march': 2871, '“where': 2872, 'irritably': 2873, 'men': 2874, 'coats': 2875, '“leave': 2876, 'disconcerted': 2877, 'sweetly': 2878, 'backs': 2879, 'continually': 2880, 'gleeful': 2881, 'anticipation': 2882, 'quarrel': 2883, 'favour': 2884, 'contents': 2885, 'rearranging': 2886, 'positions': 2887, '“alright': 2888, 'we’ll': 2889, 'humility': 2890, 'strides': 2891, 'rubbing': 2892, 'friend': 2893, 'fear': 2894, 'connection': 2895, 'leader': 2896, 'hats': 2897, 'sticks': 2898, 'premises': 2899, 'mistrust': 2900, 'men’s': 2901, 'leaned': 2902, 'progress': 2903, 'reappear': 2904, 'moments': 2905, 'butcher’s': 2906, 'boy': 2907, 'proud': 2908, 'posture': 2909, 'tray': 2910, 'nearer': 2911, 'relieved': 2912, 'wrote': 2913, 'excusal': 2914, 'employers': 2915, 'contractor': 2916, 'principal': 2917, 'tremendous': 2918, 'vertical': 2919, 'ostrich': 2920, 'feather': 2921, 'source': 2922, '“yes”': 2923, 'laugh': 2924, 'needn’t': 2925, 'sorted': 2926, 'intent': 2927, 'continuing': 2928, 'describing': 2929, 'detail': 2930, 'prevented': 2931, 'telling': 2932, 'peeved': 2933, '“cheerio': 2934, 'everyone”': 2935, 'sharply': 2936, 'terribly': 2937, '“tonight': 2938, 'gets': 2939, 'sacked”': 2940, 'destroyed': 2941, 'gained': 2942, 'twisted': 2943, 'stuff': 2944, 'attention”': 2945, 'kissed': 2946, 'hugged': 2947, 'sunshine': 2948, 'comfortably': 2949, 'seats': 2950, 'discussed': 2951, 'examination': 2952, 'bad—until': 2953, 'jobs': 2954, 'promise': 2955, 'cheaper': 2956, 'location': 2957, 'practical': 2958, 'livelier': 2959, 'cheeks': 2960, 'pale': 2961, 'simultaneously': 2962, 'blossoming': 2963, 'built': 2964, 'quieter': 2965, 'other’s': 2966, 'destination': 2967, 'metamorphosis': 2968, 'named': 2969, 'txt': 2970, 'zip': 2971, 'https': 2972, 'updated': 2973, 'replace': 2974, 'renamed': 2975, 'print': 2976, 'rules': 2977, 'apply': 2978, 'creation': 2979, 'reports': 2980, 'performances': 2981, 'modified': 2982, 'practically': 2983, 'indicate': 2984, 'abide': 2985, 'cease': 2986, 'possession': 2987, 'follow': 2988, 'preserve': 2989, 'pglaf': 2990, 'compilation': 2991, 'unprotected': 2992, 'sharing': 2993, 'name': 2994, 'attached': 2995, 'share': 2996, 'remainder': 2997, 'd': 2998, 'govern': 2999, 'countries': 3000, 'constant': 3001, 'addition': 3002, 'downloading': 3003, 'representations': 3004, 'appears': 3005, 'accessed': 3006, 'displayed': 3007, 'performed': 3008, 'viewed': 3009, 'parts': 3010, 'restrictions': 3011, 'derived': 3012, 'texts': 3013, 'charges': 3014, 'appearing': 3015, 'linked': 3016, 'unlink': 3017, 'detach': 3018, 'display': 3019, 'redistribute': 3020, 'convert': 3021, 'binary': 3022, 'compressed': 3023, 'nonproprietary': 3024, 'proprietary': 3025, 'processing': 3026, 'hypertext': 3027, 'version': 3028, 'exporting': 3029, 'original': 3030, 'alternate': 3031, 'include': 3032, 'viewing': 3033, 'reasonable': 3034, '20': 3035, 'gross': 3036, 'profits': 3037, 'derive': 3038, 'calculated': 3039, 'calculate': 3040, 'taxes': 3041, '60': 3042, 'legally': 3043, 'periodic': 3044, 'returns': 3045, 'notifies': 3046, 'mail': 3047, '30': 3048, 'require': 3049, 'possessed': 3050, 'discontinue': 3051, 'discovered': 3052, 'group': 3053, 'manager': 3054, 'expend': 3055, 'identify': 3056, 'transcribe': 3057, 'proofread': 3058, 'stored': 3059, 'defects': 3060, 'incomplete': 3061, 'inaccurate': 3062, 'corrupt': 3063, 'data': 3064, 'transcription': 3065, 'errors': 3066, 'infringement': 3067, 'damaged': 3068, 'disk': 3069, 'virus': 3070, 'codes': 3071, 'described': 3072, 'party': 3073, 'disclaim': 3074, 'remedies': 3075, 'negligence': 3076, 'distributor': 3077, 'liable': 3078, 'actual': 3079, 'indirect': 3080, 'consequential': 3081, 'punitive': 3082, 'incidental': 3083, 'possibility': 3084, 'discover': 3085, 'receiving': 3086, 'elect': 3087, 'demand': 3088, 'opportunities': 3089, 'fix': 3090, 'problem': 3091, \"'as\": 3092, \"is'\": 3093, 'merchantability': 3094, 'fitness': 3095, 'disclaimers': 3096, 'exclusion': 3097, 'types': 3098, 'violates': 3099, 'interpreted': 3100, 'maximum': 3101, 'invalidity': 3102, 'unenforceability': 3103, 'provision': 3104, 'void': 3105, 'remaining': 3106, 'provisions': 3107, 'indemnity': 3108, 'indemnify': 3109, 'agent': 3110, 'employee': 3111, 'production': 3112, 'promotion': 3113, 'harmless': 3114, 'arise': 3115, 'indirectly': 3116, 'alteration': 3117, 'modification': 3118, 'additions': 3119, 'deletions': 3120, 'synonymous': 3121, 'variety': 3122, 'obsolete': 3123, 'aged': 3124, 'exists': 3125, 'hundreds': 3126, 'walks': 3127, 'financial': 3128, 'assistance': 3129, 'critical': 3130, \"tm's\": 3131, 'goals': 3132, 'ensuring': 3133, '2001': 3134, 'permanent': 3135, 'non': 3136, 'profit': 3137, '501': 3138, 'educational': 3139, 'corporation': 3140, 'organized': 3141, 'mississippi': 3142, 'granted': 3143, 'internal': 3144, 'revenue': 3145, 'ein': 3146, 'identification': 3147, '64': 3148, '6221541': 3149, 'deductible': 3150, 'extent': 3151, \"state's\": 3152, '809': 3153, 'north': 3154, '1500': 3155, 'west': 3156, 'lake': 3157, 'ut': 3158, '84116': 3159, '801': 3160, '596': 3161, '1887': 3162, 'depends': 3163, 'survive': 3164, 'widespread': 3165, 'increasing': 3166, 'licensed': 3167, 'machine': 3168, 'accessible': 3169, 'array': 3170, 'outdated': 3171, '000': 3172, 'maintaining': 3173, 'irs': 3174, 'committed': 3175, 'regulating': 3176, 'charities': 3177, 'charitable': 3178, '50': 3179, 'paperwork': 3180, 'locations': 3181, 'determine': 3182, 'solicitation': 3183, 'accepting': 3184, 'unsolicited': 3185, 'donors': 3186, 'approach': 3187, 'offers': 3188, 'international': 3189, 'gratefully': 3190, 'statements': 3191, 'treatment': 3192, 'swamp': 3193, 'web': 3194, 'pages': 3195, 'donation': 3196, 'methods': 3197, 'addresses': 3198, 'checks': 3199, 'credit': 3200, 'card': 3201, 'professor': 3202, 'michael': 3203, 'hart': 3204, 'originator': 3205, 'library': 3206, 'shared': 3207, 'forty': 3208, 'loose': 3209, 'network': 3210, 'volunteer': 3211, 'confirmed': 3212, 'necessarily': 3213, 'edition': 3214, 'pg': 3215, 'search': 3216, 'facility': 3217, 'includes': 3218, 'produce': 3219, 'subscribe': 3220, 'newsletter': 3221}\n"
     ]
    }
   ],
   "source": [
    "print(tokenizer.word_index)"
   ]
  },
  {
   "cell_type": "code",
   "execution_count": 4,
   "metadata": {
    "colab": {
     "base_uri": "https://localhost:8080/"
    },
    "id": "DFbYQ92yfUJ0",
    "outputId": "8fee3683-05e2-407a-f8d7-d215c2d8692d"
   },
   "outputs": [
    {
     "name": "stdout",
     "output_type": "stream",
     "text": [
      "[  0   0   0   0   0   0   0   0   0   0   0   0   0   0   0   0  57 167]\n"
     ]
    }
   ],
   "source": [
    "print(input_sequences[0])\n",
    "# print(input_sequences.shape)"
   ]
  },
  {
   "cell_type": "code",
   "execution_count": 5,
   "metadata": {
    "colab": {
     "base_uri": "https://localhost:8080/"
    },
    "id": "t9N2RX5AfXEh",
    "outputId": "94305aac-b8a7-4da1-e624-542861577f09"
   },
   "outputs": [
    {
     "name": "stdout",
     "output_type": "stream",
     "text": [
      "(23144,)\n"
     ]
    }
   ],
   "source": [
    "# on labels one-hot-encoding is done \n",
    "X,y = input_sequences[:,:-1], input_sequences[:,-1]\n",
    "print(y.shape)\n",
    "y= to_categorical(y, num_classes = tot_words)"
   ]
  },
  {
   "cell_type": "code",
   "execution_count": 6,
   "metadata": {
    "colab": {
     "base_uri": "https://localhost:8080/"
    },
    "id": "Y3jWcWGh6kwS",
    "outputId": "b88c854f-725e-4aef-97fb-88498d231b65"
   },
   "outputs": [
    {
     "name": "stdout",
     "output_type": "stream",
     "text": [
      "(23144, 17)\n"
     ]
    },
    {
     "data": {
      "text/plain": [
       "(23144, 3222)"
      ]
     },
     "execution_count": 6,
     "metadata": {},
     "output_type": "execute_result"
    }
   ],
   "source": [
    "print(X.shape)\n",
    "y.shape"
   ]
  },
  {
   "cell_type": "code",
   "execution_count": 7,
   "metadata": {
    "colab": {
     "base_uri": "https://localhost:8080/"
    },
    "id": "rHrO8j5i11PR",
    "outputId": "e1578cec-0701-4d0c-b304-378318f10943"
   },
   "outputs": [
    {
     "name": "stdout",
     "output_type": "stream",
     "text": [
      "Model: \"sequential\"\n",
      "_________________________________________________________________\n",
      "Layer (type)                 Output Shape              Param #   \n",
      "=================================================================\n",
      "embedding (Embedding)        (None, 17, 100)           322200    \n",
      "_________________________________________________________________\n",
      "bidirectional (Bidirectional (None, 17, 300)           301200    \n",
      "_________________________________________________________________\n",
      "dropout (Dropout)            (None, 17, 300)           0         \n",
      "_________________________________________________________________\n",
      "lstm_1 (LSTM)                (None, 100)               160400    \n",
      "_________________________________________________________________\n",
      "dense (Dense)                (None, 1611)              162711    \n",
      "_________________________________________________________________\n",
      "dense_1 (Dense)              (None, 3222)              5193864   \n",
      "=================================================================\n",
      "Total params: 6,140,375\n",
      "Trainable params: 6,140,375\n",
      "Non-trainable params: 0\n",
      "_________________________________________________________________\n",
      "None\n"
     ]
    }
   ],
   "source": [
    "model = Sequential()\n",
    "model.add(Embedding(tot_words, 100, input_length=max_sequence_len-1))\n",
    "model.add(Bidirectional(LSTM(150, return_sequences=True)))\n",
    "model.add(Dropout(0.2))\n",
    "model.add(LSTM(100))\n",
    "model.add(Dense(tot_words/2, activation='relu')) #dense layer including regularization\n",
    "model.add(Dense(tot_words, activation='softmax'))\n",
    "model.compile(loss='categorical_crossentropy',optimizer='adam',metrics = ['accuracy']) \n",
    "print(model.summary())"
   ]
  },
  {
   "cell_type": "code",
   "execution_count": 8,
   "metadata": {
    "colab": {
     "base_uri": "https://localhost:8080/",
     "height": 346
    },
    "id": "NtMTzd-r4par",
    "outputId": "5350ffc2-87c5-4f41-fc1e-9c0f28ccf5f9"
   },
   "outputs": [
    {
     "name": "stdout",
     "output_type": "stream",
     "text": [
      "Train on 23144 samples\n",
      "Epoch 1/100\n",
      "23144/23144 [==============================] - 32s 1ms/sample - loss: 6.2669 - accuracy: 0.0556\n",
      "Epoch 2/100\n",
      "23144/23144 [==============================] - 28s 1ms/sample - loss: 5.8383 - accuracy: 0.0617\n",
      "Epoch 3/100\n",
      "23144/23144 [==============================] - 27s 1ms/sample - loss: 5.5468 - accuracy: 0.0868\n",
      "Epoch 4/100\n",
      "23144/23144 [==============================] - 27s 1ms/sample - loss: 5.2676 - accuracy: 0.1123\n",
      "Epoch 5/100\n",
      "23144/23144 [==============================] - 27s 1ms/sample - loss: 5.0581 - accuracy: 0.1260\n",
      "Epoch 6/100\n",
      "23144/23144 [==============================] - 27s 1ms/sample - loss: 4.9060 - accuracy: 0.1369\n",
      "Epoch 7/100\n",
      "23144/23144 [==============================] - 27s 1ms/sample - loss: 4.7747 - accuracy: 0.1456\n",
      "Epoch 8/100\n",
      "23144/23144 [==============================] - 27s 1ms/sample - loss: 4.6500 - accuracy: 0.1544\n",
      "Epoch 9/100\n",
      "23144/23144 [==============================] - 27s 1ms/sample - loss: 4.5294 - accuracy: 0.1574\n",
      "Epoch 10/100\n",
      "23144/23144 [==============================] - 27s 1ms/sample - loss: 4.4076 - accuracy: 0.1644\n",
      "Epoch 11/100\n",
      "23144/23144 [==============================] - 27s 1ms/sample - loss: 4.2824 - accuracy: 0.1738\n",
      "Epoch 12/100\n",
      "23144/23144 [==============================] - 27s 1ms/sample - loss: 4.1808 - accuracy: 0.1800\n",
      "Epoch 13/100\n",
      "23144/23144 [==============================] - 27s 1ms/sample - loss: 4.0399 - accuracy: 0.1889\n",
      "Epoch 14/100\n",
      "23144/23144 [==============================] - 27s 1ms/sample - loss: 3.9251 - accuracy: 0.1976\n",
      "Epoch 15/100\n",
      "23144/23144 [==============================] - 27s 1ms/sample - loss: 3.8114 - accuracy: 0.2061\n",
      "Epoch 16/100\n",
      "23144/23144 [==============================] - 27s 1ms/sample - loss: 3.7037 - accuracy: 0.2116\n",
      "Epoch 17/100\n",
      "23144/23144 [==============================] - 27s 1ms/sample - loss: 3.5935 - accuracy: 0.2192\n",
      "Epoch 18/100\n",
      "23144/23144 [==============================] - 27s 1ms/sample - loss: 3.4838 - accuracy: 0.2310\n",
      "Epoch 19/100\n",
      "23144/23144 [==============================] - 27s 1ms/sample - loss: 3.3788 - accuracy: 0.2399\n",
      "Epoch 20/100\n",
      "23144/23144 [==============================] - 27s 1ms/sample - loss: 3.2710 - accuracy: 0.2500\n",
      "Epoch 21/100\n",
      "23144/23144 [==============================] - 27s 1ms/sample - loss: 3.1691 - accuracy: 0.2595\n",
      "Epoch 22/100\n",
      "23144/23144 [==============================] - 27s 1ms/sample - loss: 3.0671 - accuracy: 0.2711\n",
      "Epoch 23/100\n",
      "23144/23144 [==============================] - 27s 1ms/sample - loss: 2.9616 - accuracy: 0.2894\n",
      "Epoch 24/100\n",
      "23144/23144 [==============================] - 27s 1ms/sample - loss: 2.8620 - accuracy: 0.3004\n",
      "Epoch 25/100\n",
      "23144/23144 [==============================] - 27s 1ms/sample - loss: 2.7625 - accuracy: 0.3206\n",
      "Epoch 26/100\n",
      "23144/23144 [==============================] - 27s 1ms/sample - loss: 2.6665 - accuracy: 0.3330\n",
      "Epoch 27/100\n",
      "23144/23144 [==============================] - 27s 1ms/sample - loss: 2.5802 - accuracy: 0.3494\n",
      "Epoch 28/100\n",
      "23144/23144 [==============================] - 27s 1ms/sample - loss: 2.4765 - accuracy: 0.3637\n",
      "Epoch 29/100\n",
      "23144/23144 [==============================] - 27s 1ms/sample - loss: 2.3763 - accuracy: 0.3846\n",
      "Epoch 30/100\n",
      "23144/23144 [==============================] - 27s 1ms/sample - loss: 2.2966 - accuracy: 0.4045\n",
      "Epoch 31/100\n",
      "23144/23144 [==============================] - 27s 1ms/sample - loss: 2.2182 - accuracy: 0.4171\n",
      "Epoch 32/100\n",
      "23144/23144 [==============================] - 27s 1ms/sample - loss: 2.1258 - accuracy: 0.4396\n",
      "Epoch 33/100\n",
      "23144/23144 [==============================] - 27s 1ms/sample - loss: 2.0400 - accuracy: 0.4532\n",
      "Epoch 34/100\n",
      "23144/23144 [==============================] - 27s 1ms/sample - loss: 1.9560 - accuracy: 0.4712\n",
      "Epoch 35/100\n",
      "23144/23144 [==============================] - 27s 1ms/sample - loss: 1.8751 - accuracy: 0.4930\n",
      "Epoch 36/100\n",
      "23144/23144 [==============================] - 27s 1ms/sample - loss: 1.8118 - accuracy: 0.5032\n",
      "Epoch 37/100\n",
      "23144/23144 [==============================] - 27s 1ms/sample - loss: 1.7324 - accuracy: 0.5240\n",
      "Epoch 38/100\n",
      "23144/23144 [==============================] - 27s 1ms/sample - loss: 1.6875 - accuracy: 0.5337\n",
      "Epoch 39/100\n",
      "23144/23144 [==============================] - 27s 1ms/sample - loss: 1.5966 - accuracy: 0.5585\n",
      "Epoch 40/100\n",
      "23144/23144 [==============================] - 27s 1ms/sample - loss: 1.5260 - accuracy: 0.5722\n",
      "Epoch 41/100\n",
      "23144/23144 [==============================] - 27s 1ms/sample - loss: 1.4697 - accuracy: 0.5884\n",
      "Epoch 42/100\n",
      "23144/23144 [==============================] - 27s 1ms/sample - loss: 1.4116 - accuracy: 0.6008\n",
      "Epoch 43/100\n",
      "23144/23144 [==============================] - 27s 1ms/sample - loss: 1.3608 - accuracy: 0.6122\n",
      "Epoch 44/100\n",
      "23144/23144 [==============================] - 27s 1ms/sample - loss: 1.3143 - accuracy: 0.6263\n",
      "Epoch 45/100\n",
      "23144/23144 [==============================] - 27s 1ms/sample - loss: 1.2525 - accuracy: 0.6413\n",
      "Epoch 46/100\n",
      "23144/23144 [==============================] - 27s 1ms/sample - loss: 1.2174 - accuracy: 0.6506\n",
      "Epoch 47/100\n",
      "23144/23144 [==============================] - 27s 1ms/sample - loss: 1.1600 - accuracy: 0.6665\n",
      "Epoch 48/100\n",
      "23144/23144 [==============================] - 27s 1ms/sample - loss: 1.1125 - accuracy: 0.6762\n",
      "Epoch 49/100\n",
      "23144/23144 [==============================] - 27s 1ms/sample - loss: 1.0741 - accuracy: 0.6867\n",
      "Epoch 50/100\n",
      "23144/23144 [==============================] - 27s 1ms/sample - loss: 1.0384 - accuracy: 0.6991\n",
      "Epoch 51/100\n",
      "23144/23144 [==============================] - 27s 1ms/sample - loss: 1.0008 - accuracy: 0.7051\n",
      "Epoch 52/100\n",
      "23144/23144 [==============================] - 27s 1ms/sample - loss: 0.9673 - accuracy: 0.7160\n",
      "Epoch 53/100\n",
      "23144/23144 [==============================] - 27s 1ms/sample - loss: 0.9268 - accuracy: 0.7318\n",
      "Epoch 54/100\n",
      "23144/23144 [==============================] - 27s 1ms/sample - loss: 0.9014 - accuracy: 0.7335\n",
      "Epoch 55/100\n",
      "23144/23144 [==============================] - 27s 1ms/sample - loss: 0.8600 - accuracy: 0.7471\n",
      "Epoch 56/100\n",
      "23144/23144 [==============================] - 27s 1ms/sample - loss: 0.8681 - accuracy: 0.7408\n",
      "Epoch 57/100\n",
      "23144/23144 [==============================] - 27s 1ms/sample - loss: 0.8144 - accuracy: 0.7599\n",
      "Epoch 58/100\n",
      "23144/23144 [==============================] - 27s 1ms/sample - loss: 0.7806 - accuracy: 0.7697\n",
      "Epoch 59/100\n",
      "23144/23144 [==============================] - 27s 1ms/sample - loss: 0.7558 - accuracy: 0.7759\n",
      "Epoch 60/100\n",
      "23144/23144 [==============================] - 27s 1ms/sample - loss: 0.7496 - accuracy: 0.7770\n",
      "Epoch 61/100\n",
      "23144/23144 [==============================] - 27s 1ms/sample - loss: 0.7309 - accuracy: 0.7834\n",
      "Epoch 62/100\n",
      "23144/23144 [==============================] - 27s 1ms/sample - loss: 0.6912 - accuracy: 0.7934\n",
      "Epoch 63/100\n",
      "23144/23144 [==============================] - 27s 1ms/sample - loss: 0.6773 - accuracy: 0.7970\n",
      "Epoch 64/100\n",
      "23144/23144 [==============================] - 27s 1ms/sample - loss: 0.6632 - accuracy: 0.8001\n",
      "Epoch 65/100\n",
      "23144/23144 [==============================] - 27s 1ms/sample - loss: 0.6456 - accuracy: 0.8049\n",
      "Epoch 66/100\n",
      "23144/23144 [==============================] - 27s 1ms/sample - loss: 0.6239 - accuracy: 0.8138\n",
      "Epoch 67/100\n",
      "23144/23144 [==============================] - 27s 1ms/sample - loss: 0.6234 - accuracy: 0.8133\n",
      "Epoch 68/100\n",
      "23144/23144 [==============================] - 27s 1ms/sample - loss: 0.5998 - accuracy: 0.8180\n",
      "Epoch 69/100\n",
      "23144/23144 [==============================] - 27s 1ms/sample - loss: 0.5879 - accuracy: 0.8203\n",
      "Epoch 70/100\n",
      "23144/23144 [==============================] - 27s 1ms/sample - loss: 0.5870 - accuracy: 0.8210\n",
      "Epoch 71/100\n",
      "23144/23144 [==============================] - 27s 1ms/sample - loss: 0.5536 - accuracy: 0.8335\n",
      "Epoch 72/100\n",
      "23144/23144 [==============================] - 27s 1ms/sample - loss: 0.5605 - accuracy: 0.8299\n",
      "Epoch 73/100\n",
      "23144/23144 [==============================] - 27s 1ms/sample - loss: 0.5587 - accuracy: 0.8302\n",
      "Epoch 74/100\n",
      "23144/23144 [==============================] - 27s 1ms/sample - loss: 0.5203 - accuracy: 0.8435\n",
      "Epoch 75/100\n",
      "23144/23144 [==============================] - 27s 1ms/sample - loss: 0.5183 - accuracy: 0.8418\n",
      "Epoch 76/100\n"
     ]
    },
    {
     "name": "stdout",
     "output_type": "stream",
     "text": [
      "23144/23144 [==============================] - 27s 1ms/sample - loss: 0.5062 - accuracy: 0.8468\n",
      "Epoch 77/100\n",
      "23144/23144 [==============================] - 27s 1ms/sample - loss: 0.4968 - accuracy: 0.8496\n",
      "Epoch 78/100\n",
      "23144/23144 [==============================] - 27s 1ms/sample - loss: 0.4906 - accuracy: 0.8505\n",
      "Epoch 79/100\n",
      "23144/23144 [==============================] - 27s 1ms/sample - loss: 0.4756 - accuracy: 0.8553\n",
      "Epoch 80/100\n",
      "23144/23144 [==============================] - 27s 1ms/sample - loss: 0.4656 - accuracy: 0.8577\n",
      "Epoch 81/100\n",
      "23144/23144 [==============================] - 27s 1ms/sample - loss: 0.4666 - accuracy: 0.8583\n",
      "Epoch 82/100\n",
      "23144/23144 [==============================] - 27s 1ms/sample - loss: 0.4637 - accuracy: 0.8565\n",
      "Epoch 83/100\n",
      "23144/23144 [==============================] - 27s 1ms/sample - loss: 0.4683 - accuracy: 0.8554\n",
      "Epoch 84/100\n",
      "23144/23144 [==============================] - 27s 1ms/sample - loss: 0.4424 - accuracy: 0.8665\n",
      "Epoch 85/100\n",
      "23144/23144 [==============================] - 27s 1ms/sample - loss: 0.4350 - accuracy: 0.8682\n",
      "Epoch 86/100\n",
      "23144/23144 [==============================] - 27s 1ms/sample - loss: 0.4280 - accuracy: 0.8681\n",
      "Epoch 87/100\n",
      "23144/23144 [==============================] - 27s 1ms/sample - loss: 0.4332 - accuracy: 0.8661\n",
      "Epoch 88/100\n",
      "23144/23144 [==============================] - 27s 1ms/sample - loss: 0.4210 - accuracy: 0.8698\n",
      "Epoch 89/100\n",
      "23144/23144 [==============================] - 27s 1ms/sample - loss: 0.4324 - accuracy: 0.8659\n",
      "Epoch 90/100\n",
      "23144/23144 [==============================] - 27s 1ms/sample - loss: 0.4279 - accuracy: 0.8680\n",
      "Epoch 91/100\n",
      "23144/23144 [==============================] - 27s 1ms/sample - loss: 0.4122 - accuracy: 0.8747\n",
      "Epoch 92/100\n",
      "23144/23144 [==============================] - 27s 1ms/sample - loss: 0.4058 - accuracy: 0.8735\n",
      "Epoch 93/100\n",
      "23144/23144 [==============================] - 27s 1ms/sample - loss: 0.4028 - accuracy: 0.8737\n",
      "Epoch 94/100\n",
      "23144/23144 [==============================] - 27s 1ms/sample - loss: 0.4199 - accuracy: 0.8687\n",
      "Epoch 95/100\n",
      "23144/23144 [==============================] - 27s 1ms/sample - loss: 0.4142 - accuracy: 0.8717\n",
      "Epoch 96/100\n",
      "23144/23144 [==============================] - 27s 1ms/sample - loss: 0.3822 - accuracy: 0.8814\n",
      "Epoch 97/100\n",
      "23144/23144 [==============================] - 27s 1ms/sample - loss: 0.3771 - accuracy: 0.8826\n",
      "Epoch 98/100\n",
      "23144/23144 [==============================] - 27s 1ms/sample - loss: 0.3857 - accuracy: 0.8801\n",
      "Epoch 99/100\n",
      "23144/23144 [==============================] - 27s 1ms/sample - loss: 0.3829 - accuracy: 0.8811\n",
      "Epoch 100/100\n",
      "23144/23144 [==============================] - 27s 1ms/sample - loss: 0.3732 - accuracy: 0.8839\n"
     ]
    }
   ],
   "source": [
    "# prev 30\n",
    "history = model.fit(X,y,epochs=100, verbose=1)"
   ]
  },
  {
   "cell_type": "code",
   "execution_count": 9,
   "metadata": {},
   "outputs": [],
   "source": [
    "# history = model.fit(X,y,epochs=100, verbose=1)"
   ]
  },
  {
   "cell_type": "code",
   "execution_count": null,
   "metadata": {},
   "outputs": [],
   "source": []
  },
  {
   "cell_type": "code",
   "execution_count": null,
   "metadata": {},
   "outputs": [],
   "source": []
  },
  {
   "cell_type": "code",
   "execution_count": 10,
   "metadata": {
    "colab": {
     "base_uri": "https://localhost:8080/"
    },
    "id": "uxsyGB0j9X2W",
    "outputId": "2a0fec4c-bbae-4ddd-bf0b-fea3f93eb8fc"
   },
   "outputs": [
    {
     "name": "stdout",
     "output_type": "stream",
     "text": [
      "Saved model to disk\n"
     ]
    }
   ],
   "source": [
    "model_json = model.to_json()\n",
    "with open(\"model_bilstm_19_04.json\", \"w\") as json_file:\n",
    "    json_file.write(model_json)\n",
    "\n",
    "model.save_weights(\"model_bilstm_19_04.h5\")\n",
    "print(\"Saved model to disk\")"
   ]
  },
  {
   "cell_type": "code",
   "execution_count": 11,
   "metadata": {},
   "outputs": [],
   "source": [
    "def plot_graph(history, string):\n",
    "    plt.plot(history.history(string))\n",
    "    plt.xlabel(\"Epochs\")\n",
    "    plt.ylabel(string)\n",
    "    plt.show()\n",
    "  "
   ]
  },
  {
   "cell_type": "code",
   "execution_count": 12,
   "metadata": {},
   "outputs": [
    {
     "name": "stdout",
     "output_type": "stream",
     "text": [
      "Loaded model from disk\n"
     ]
    }
   ],
   "source": [
    "# load json and create model\n",
    "\n",
    "import json\n",
    "from tensorflow.keras.models import model_from_json\n",
    "json_file = open('model_bilstm_19_04.json','r')\n",
    "loaded_model_json= json_file.read()\n",
    "json_file.close()\n",
    "loaded_model = model_from_json(loaded_model_json)\n",
    "loaded_model.load_weights(\"model_bilstm_19_04.h5\")\n",
    "print(\"Loaded model from disk\")"
   ]
  },
  {
   "cell_type": "code",
   "execution_count": 13,
   "metadata": {},
   "outputs": [],
   "source": [
    "model = loaded_model"
   ]
  },
  {
   "cell_type": "code",
   "execution_count": 14,
   "metadata": {},
   "outputs": [
    {
     "name": "stdout",
     "output_type": "stream",
     "text": [
      "a\n",
      "broom\n",
      "but\n",
      "then\n",
      "he\n",
      "stood\n",
      "He began running a broom but then he stood\n"
     ]
    }
   ],
   "source": [
    "seed_text = \"He began running\"\n",
    "next_word= 6\n",
    "for _ in range(next_word):\n",
    "    token_list = tokenizer.texts_to_sequences([seed_text])[0]\n",
    "    token_list= (pad_sequences([token_list],maxlen=max_sequence_len-1, padding=\"pre\"))\n",
    "    predicted = model.predict_classes(token_list, verbose=0)\n",
    "    output_word = \"\"\n",
    "    for word, index in tokenizer.word_index.items():\n",
    "        if(index==predicted):\n",
    "            output_word=word\n",
    "            print(output_word)\n",
    "            break\n",
    "    seed_text+=(\" \" + output_word)\n",
    "print(seed_text)"
   ]
  },
  {
   "cell_type": "code",
   "execution_count": null,
   "metadata": {},
   "outputs": [],
   "source": [
    "def prepare_input(text):\n",
    "    x = np.zeros((1, length_word, len(unique_words)))\n",
    "    for ind,word in enumerate(text.split()):\n",
    "    x[0, ind, words_index[word]] = 1\n",
    "    return x\n",
    "prepare_input(\"It is not a lack\".lower())\n",
    "\n",
    "\n",
    "def sample(predicts, n_top_words=5):\n",
    "    predict = np.asarray(predicts).astype('float64')\n",
    "    predicts = np.log(predicts)\n",
    "    exp_preds = np.exp(predicts)\n",
    "    predicts = exp_preds / np.sum(exp_preds)\n",
    "    return heapq.nlargest(n_top_words, range(len(predicts)), predicts.take)\n",
    "\n",
    "\n",
    "\n",
    "def predict_completions(text, n=3):\n",
    "    if text == \"\":\n",
    "        return(\"0\")\n",
    "    x = prepare_input(text)\n",
    "    print(x)\n",
    "    preds = model.predict(x, verbose=0)[0]\n",
    "    next_indices = sample(preds, n)\n",
    "\n",
    "    return [unique_words[idx] for idx in next_indices]\n",
    "\n",
    "\n",
    "# q =  \"One night—it was on the twentieth of March\"\n",
    "q =  \"I want to be in past days\"\n",
    "q =  \"It was a quarter past six when we left Baker Street\"\n",
    "q =  \"He catch the train every\"\n",
    "q =  \"But I understand that all the other clothes were found in the room\"\n",
    "\n",
    "print(\"correct sentence: \",q)\n",
    "seq = \" \".join(tokenizer.tokenize(q.lower())[0:4])\n",
    "print(\"Sequence: \",seq)\n",
    "print(\"next possible words: \", predict_completions(seq, 5))"
   ]
  }
 ],
 "metadata": {
  "colab": {
   "name": "BiLSTM.ipynb",
   "provenance": []
  },
  "kernelspec": {
   "display_name": "Python 3",
   "language": "python",
   "name": "python3"
  },
  "language_info": {
   "codemirror_mode": {
    "name": "ipython",
    "version": 3
   },
   "file_extension": ".py",
   "mimetype": "text/x-python",
   "name": "python",
   "nbconvert_exporter": "python",
   "pygments_lexer": "ipython3",
   "version": "3.6.9"
  }
 },
 "nbformat": 4,
 "nbformat_minor": 1
}
